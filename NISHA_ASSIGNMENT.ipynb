{
  "nbformat": 4,
  "nbformat_minor": 0,
  "metadata": {
    "colab": {
      "provenance": [],
      "authorship_tag": "ABX9TyOQZ1/4xWwTVtIE31jiwgCd",
      "include_colab_link": true
    },
    "kernelspec": {
      "name": "python3",
      "display_name": "Python 3"
    },
    "language_info": {
      "name": "python"
    }
  },
  "cells": [
    {
      "cell_type": "markdown",
      "metadata": {
        "id": "view-in-github",
        "colab_type": "text"
      },
      "source": [
        "<a href=\"https://colab.research.google.com/github/anishakyomugisa/BSG_gis/blob/main/NISHA_ASSIGNMENT.ipynb\" target=\"_parent\"><img src=\"https://colab.research.google.com/assets/colab-badge.svg\" alt=\"Open In Colab\"/></a>"
      ]
    },
    {
      "cell_type": "markdown",
      "source": [
        "**SIMPLE  VARIABLE ASSIGNMENT**"
      ],
      "metadata": {
        "id": "ztuHj5uxhjW0"
      }
    },
    {
      "cell_type": "code",
      "execution_count": 6,
      "metadata": {
        "colab": {
          "base_uri": "https://localhost:8080/"
        },
        "id": "3LSdPZSRYogG",
        "outputId": "3c607b06-3328-48fe-a20f-f370c3219093"
      },
      "outputs": [
        {
          "output_type": "execute_result",
          "data": {
            "text/plain": [
              "float"
            ]
          },
          "metadata": {},
          "execution_count": 6
        }
      ],
      "source": [
        "# X = 2.5, Y = 7.5\n",
        "x = 2.5\n",
        "y = 7.5\n",
        "type(x)\n",
        "type(y)"
      ]
    },
    {
      "cell_type": "markdown",
      "source": [
        "**PRINT STATEMENT**"
      ],
      "metadata": {
        "id": "4lfTG9swiKd1"
      }
    },
    {
      "cell_type": "code",
      "source": [
        "print(\"Hello, World!\")"
      ],
      "metadata": {
        "colab": {
          "base_uri": "https://localhost:8080/"
        },
        "id": "KPj3LudJasvB",
        "outputId": "e1da2e12-0dfa-4b8c-e8c1-6c5e1fc80526"
      },
      "execution_count": 8,
      "outputs": [
        {
          "output_type": "stream",
          "name": "stdout",
          "text": [
            "Hello, World!\n"
          ]
        }
      ]
    },
    {
      "cell_type": "markdown",
      "source": [
        "**VARIABLE CONCATENATION**"
      ],
      "metadata": {
        "id": "tAjdlH01iTaB"
      }
    },
    {
      "cell_type": "code",
      "source": [
        "from re import S\n",
        "f_word = \"Hello\"\n",
        "s_word = \"World\"\n",
        "sum = f_word + s_word\n",
        "print(sum)"
      ],
      "metadata": {
        "colab": {
          "base_uri": "https://localhost:8080/"
        },
        "id": "-7Df1Fd1a5ig",
        "outputId": "d464e8a5-c806-4fd0-ab17-323a94a11722"
      },
      "execution_count": 10,
      "outputs": [
        {
          "output_type": "stream",
          "name": "stdout",
          "text": [
            "HelloWorld\n"
          ]
        }
      ]
    },
    {
      "cell_type": "markdown",
      "source": [
        "**NUMERICAL OPERATIONS**"
      ],
      "metadata": {
        "id": "OnnHQlvWihe8"
      }
    },
    {
      "cell_type": "code",
      "source": [
        "x = 2.5\n",
        "y = 4\n",
        "product = x*y\n",
        "print(product)"
      ],
      "metadata": {
        "colab": {
          "base_uri": "https://localhost:8080/"
        },
        "id": "3r8spY2ZbdNw",
        "outputId": "16cc2d91-0d88-48c6-dc96-0043813a10ca"
      },
      "execution_count": 11,
      "outputs": [
        {
          "output_type": "stream",
          "name": "stdout",
          "text": [
            "10.0\n"
          ]
        }
      ]
    },
    {
      "cell_type": "markdown",
      "source": [
        "**STRING REPETITION**"
      ],
      "metadata": {
        "id": "DoNPoW79ingY"
      }
    },
    {
      "cell_type": "code",
      "source": [
        "name = \"NYSHER, \"\n",
        "students = name * 7\n",
        "print (students)"
      ],
      "metadata": {
        "colab": {
          "base_uri": "https://localhost:8080/"
        },
        "id": "1qn5XHxHbzZP",
        "outputId": "6079e03d-9b83-463c-a58d-83c8e3bad998"
      },
      "execution_count": 18,
      "outputs": [
        {
          "output_type": "stream",
          "name": "stdout",
          "text": [
            "NYSHER, NYSHER, NYSHER, NYSHER, NYSHER, NYSHER, NYSHER, \n"
          ]
        }
      ]
    },
    {
      "cell_type": "markdown",
      "source": [
        "**VARIABLE SWAP**"
      ],
      "metadata": {
        "id": "GLAU1S7Ziu88"
      }
    },
    {
      "cell_type": "code",
      "source": [
        "x = 4\n",
        "y = 100\n",
        "print(\"x =\", y)\n",
        "print(\"y =\", x)\n"
      ],
      "metadata": {
        "colab": {
          "base_uri": "https://localhost:8080/"
        },
        "id": "mzT7M-q7dv6Z",
        "outputId": "3c60894a-c925-48f6-b5c3-224ce29c58f4"
      },
      "execution_count": 47,
      "outputs": [
        {
          "output_type": "stream",
          "name": "stdout",
          "text": [
            "x = 100\n",
            "y = 4\n"
          ]
        }
      ]
    },
    {
      "cell_type": "markdown",
      "source": [
        "**SRING LENGTH**"
      ],
      "metadata": {
        "id": "c-_bos08i0M5"
      }
    },
    {
      "cell_type": "code",
      "source": [
        "profession = \"LANDSURVEYOR\"\n",
        "print(len(profession))"
      ],
      "metadata": {
        "colab": {
          "base_uri": "https://localhost:8080/"
        },
        "id": "H2u3bDhZd6s_",
        "outputId": "1616fd0f-1d8b-4074-8ac7-e408f8e5cb5e"
      },
      "execution_count": 22,
      "outputs": [
        {
          "output_type": "stream",
          "name": "stdout",
          "text": [
            "12\n"
          ]
        }
      ]
    },
    {
      "cell_type": "markdown",
      "source": [
        "**TYPE CONVERSION**"
      ],
      "metadata": {
        "id": "d3OYIlxsi64j"
      }
    },
    {
      "cell_type": "code",
      "source": [
        "name = \"NYSHER_is_\"\n",
        "age = 12\n",
        "brings = f\"{name}{age}\"\n",
        "print(brings)"
      ],
      "metadata": {
        "colab": {
          "base_uri": "https://localhost:8080/"
        },
        "id": "g36HCYt6cUzJ",
        "outputId": "08e64ceb-480c-4799-a4ff-1dc1ae1f6a59"
      },
      "execution_count": 28,
      "outputs": [
        {
          "output_type": "stream",
          "name": "stdout",
          "text": [
            "NYSHER_is_12\n"
          ]
        }
      ]
    },
    {
      "cell_type": "markdown",
      "source": [
        "**FORMATTED STRING**"
      ],
      "metadata": {
        "id": "7GPViHKvjB_p"
      }
    },
    {
      "cell_type": "code",
      "source": [
        "a = 78\n",
        "b = 95\n",
        "\n",
        "x = f\"The value of a is {a} and the value of b is {b}\"\n",
        "\n",
        "print(x)"
      ],
      "metadata": {
        "colab": {
          "base_uri": "https://localhost:8080/"
        },
        "id": "GgcpHy_OfLzE",
        "outputId": "a8c6ee69-3b9a-471f-e986-ae116b93d942"
      },
      "execution_count": 38,
      "outputs": [
        {
          "output_type": "stream",
          "name": "stdout",
          "text": [
            "The value of a is 78 and the value of b is 95\n"
          ]
        }
      ]
    }
  ]
}